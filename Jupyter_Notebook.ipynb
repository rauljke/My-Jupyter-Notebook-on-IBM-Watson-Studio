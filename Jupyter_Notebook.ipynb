{
 "cells": [
  {
   "cell_type": "markdown",
   "metadata": {},
   "source": [
    "<center>\n",
    "    <img src=\"https://s3-api.us-geo.objectstorage.softlayer.net/cf-courses-data/CognitiveClass/Logos/organization_logo/organization_logo.png\" width=\"300\" alt=\"cognitiveclass.ai logo\"  />\n",
    "</center>\n"
   ]
  },
  {
   "cell_type": "markdown",
   "metadata": {},
   "source": [
    "# My Jupyter Notebook on IBM Watson Studio"
   ]
  },
  {
   "cell_type": "markdown",
   "metadata": {},
   "source": [
    "**Ihar Laurenau**"
   ]
  },
  {
   "cell_type": "markdown",
   "metadata": {},
   "source": [
    "Electronics engineer"
   ]
  },
  {
   "cell_type": "markdown",
   "metadata": {},
   "source": [
    "*The science of data is close to me for several reasons: I have always been interested in mathematics, statistics, patterns, numbers, and it seems to me that our whole world is built on binary logic.*"
   ]
  },
  {
   "cell_type": "markdown",
   "metadata": {},
   "source": [
    "### My code calculates the matrix product of two matrices of different dimensions. (R)"
   ]
  },
  {
   "cell_type": "code",
   "execution_count": 9,
   "metadata": {},
   "outputs": [
    {
     "name": "stdout",
     "output_type": "stream",
     "text": [
      "     [,1] [,2] [,3] [,4]\n",
      "[1,]    1    1    1    1\n",
      "[2,]    1    1   -1   -1\n",
      "[3,]    1   -1    1   -1\n",
      "     [,1] [,2] [,3]\n",
      "[1,]    1    1    1\n",
      "[2,]    1   -1    1\n",
      "[3,]    1    1   -1\n",
      "[4,]    1   -1   -1\n",
      "     [,1] [,2] [,3]\n",
      "[1,]    1    1    1\n",
      "[2,]    1   -1   -1\n",
      "[3,]    1   -1   -1\n"
     ]
    }
   ],
   "source": [
    "F = matrix(c(1, 1, 1, 1, 1, -1, 1, -1, 1, 1, -1, -1), nrow = 3, ncol = 4)\n",
    "Ft = matrix(c(1, 1, 1, 1, 1, -1, 1, -1, 1, 1, -1, -1), nrow = 4, ncol = 3)\n",
    "num_of_rows = nrow(F)\n",
    "num_of_cols = ncol(Ft)\n",
    "div = matrix(, nrow = num_of_rows, ncol = num_of_cols)\n",
    "print(F)\n",
    "print(Ft)\n",
    "for(row in 1:num_of_rows) \n",
    "{\n",
    "    for(col in 1:num_of_cols) \n",
    "    {\n",
    "        div[row, col] <- F[row, col] / Ft[row, col]\n",
    "    }\n",
    "}\n",
    "print(div)"
   ]
  },
  {
   "cell_type": "markdown",
   "metadata": {},
   "source": [
    "*Bulleted list*\n",
    "-  one\n",
    "-  two\n",
    "-  three\n",
    "\n",
    "*Numbered list*\n",
    "\n",
    "<ol>\n",
    "    <li>One</li>\n",
    "    <li>Two</li>\n",
    "    <li>Three</li>\n",
    "</ol>\n",
    "\n",
    "*Hyperlink*\n",
    "\n",
    "<<a href=\"https://data platform.cloud.ibm.com/gallery \">IBM Cloud Gallery</a>\n",
    "\n",
    "*Table*\n",
    "\n",
    "| Header 1 | Header 2 | Header 3 |\n",
    "| ------ | ------ | ------ |\n",
    "| Cell 1 | Cell 2 | Cell 3 |"
   ]
  },
  {
   "cell_type": "code",
   "execution_count": null,
   "metadata": {},
   "outputs": [],
   "source": []
  }
 ],
 "metadata": {
  "kernelspec": {
   "display_name": "R",
   "language": "R",
   "name": "conda-env-r-r"
  },
  "language_info": {
   "codemirror_mode": "r",
   "file_extension": ".r",
   "mimetype": "text/x-r-source",
   "name": "R",
   "pygments_lexer": "r",
   "version": "3.5.1"
  }
 },
 "nbformat": 4,
 "nbformat_minor": 4
}
